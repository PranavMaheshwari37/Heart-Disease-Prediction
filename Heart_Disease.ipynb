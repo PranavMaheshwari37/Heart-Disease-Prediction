{
 "cells": [
  {
   "cell_type": "markdown",
   "metadata": {},
   "source": [
    "# Heart Disease Prediction:"
   ]
  },
  {
   "cell_type": "markdown",
   "metadata": {},
   "source": [
    "In this Machine Learning Project, I have colleect all the dataset from kaggle and I will use the Machine learning to predict whether any person is suffering from heart disease."
   ]
  },
  {
   "cell_type": "code",
   "execution_count": 1,
   "metadata": {},
   "outputs": [],
   "source": [
    "import pandas as pd\n",
    "import numpy as np"
   ]
  },
  {
   "cell_type": "markdown",
   "metadata": {},
   "source": [
    "## Loading Data"
   ]
  },
  {
   "cell_type": "code",
   "execution_count": 2,
   "metadata": {},
   "outputs": [],
   "source": [
    "data = pd.read_csv('heart.csv')"
   ]
  },
  {
   "cell_type": "code",
   "execution_count": 60,
   "metadata": {},
   "outputs": [
    {
     "data": {
      "text/html": [
       "<div>\n",
       "<style scoped>\n",
       "    .dataframe tbody tr th:only-of-type {\n",
       "        vertical-align: middle;\n",
       "    }\n",
       "\n",
       "    .dataframe tbody tr th {\n",
       "        vertical-align: top;\n",
       "    }\n",
       "\n",
       "    .dataframe thead th {\n",
       "        text-align: right;\n",
       "    }\n",
       "</style>\n",
       "<table border=\"1\" class=\"dataframe\">\n",
       "  <thead>\n",
       "    <tr style=\"text-align: right;\">\n",
       "      <th></th>\n",
       "      <th>age</th>\n",
       "      <th>sex</th>\n",
       "      <th>cp</th>\n",
       "      <th>trestbps</th>\n",
       "      <th>chol</th>\n",
       "      <th>fbs</th>\n",
       "      <th>restecg</th>\n",
       "      <th>thalach</th>\n",
       "      <th>exang</th>\n",
       "      <th>oldpeak</th>\n",
       "      <th>slope</th>\n",
       "      <th>ca</th>\n",
       "      <th>thal</th>\n",
       "      <th>target</th>\n",
       "    </tr>\n",
       "  </thead>\n",
       "  <tbody>\n",
       "    <tr>\n",
       "      <td>0</td>\n",
       "      <td>63</td>\n",
       "      <td>1</td>\n",
       "      <td>3</td>\n",
       "      <td>145</td>\n",
       "      <td>233</td>\n",
       "      <td>1</td>\n",
       "      <td>0</td>\n",
       "      <td>150</td>\n",
       "      <td>0</td>\n",
       "      <td>2.3</td>\n",
       "      <td>0</td>\n",
       "      <td>0</td>\n",
       "      <td>1</td>\n",
       "      <td>1</td>\n",
       "    </tr>\n",
       "    <tr>\n",
       "      <td>1</td>\n",
       "      <td>37</td>\n",
       "      <td>1</td>\n",
       "      <td>2</td>\n",
       "      <td>130</td>\n",
       "      <td>250</td>\n",
       "      <td>0</td>\n",
       "      <td>1</td>\n",
       "      <td>187</td>\n",
       "      <td>0</td>\n",
       "      <td>3.5</td>\n",
       "      <td>0</td>\n",
       "      <td>0</td>\n",
       "      <td>2</td>\n",
       "      <td>1</td>\n",
       "    </tr>\n",
       "    <tr>\n",
       "      <td>2</td>\n",
       "      <td>41</td>\n",
       "      <td>0</td>\n",
       "      <td>1</td>\n",
       "      <td>130</td>\n",
       "      <td>204</td>\n",
       "      <td>0</td>\n",
       "      <td>0</td>\n",
       "      <td>172</td>\n",
       "      <td>0</td>\n",
       "      <td>1.4</td>\n",
       "      <td>2</td>\n",
       "      <td>0</td>\n",
       "      <td>2</td>\n",
       "      <td>1</td>\n",
       "    </tr>\n",
       "    <tr>\n",
       "      <td>3</td>\n",
       "      <td>56</td>\n",
       "      <td>1</td>\n",
       "      <td>1</td>\n",
       "      <td>120</td>\n",
       "      <td>236</td>\n",
       "      <td>0</td>\n",
       "      <td>1</td>\n",
       "      <td>178</td>\n",
       "      <td>0</td>\n",
       "      <td>0.8</td>\n",
       "      <td>2</td>\n",
       "      <td>0</td>\n",
       "      <td>2</td>\n",
       "      <td>1</td>\n",
       "    </tr>\n",
       "    <tr>\n",
       "      <td>4</td>\n",
       "      <td>57</td>\n",
       "      <td>0</td>\n",
       "      <td>0</td>\n",
       "      <td>120</td>\n",
       "      <td>354</td>\n",
       "      <td>0</td>\n",
       "      <td>1</td>\n",
       "      <td>163</td>\n",
       "      <td>1</td>\n",
       "      <td>0.6</td>\n",
       "      <td>2</td>\n",
       "      <td>0</td>\n",
       "      <td>2</td>\n",
       "      <td>1</td>\n",
       "    </tr>\n",
       "    <tr>\n",
       "      <td>5</td>\n",
       "      <td>57</td>\n",
       "      <td>1</td>\n",
       "      <td>0</td>\n",
       "      <td>140</td>\n",
       "      <td>192</td>\n",
       "      <td>0</td>\n",
       "      <td>1</td>\n",
       "      <td>148</td>\n",
       "      <td>0</td>\n",
       "      <td>0.4</td>\n",
       "      <td>1</td>\n",
       "      <td>0</td>\n",
       "      <td>1</td>\n",
       "      <td>1</td>\n",
       "    </tr>\n",
       "    <tr>\n",
       "      <td>6</td>\n",
       "      <td>56</td>\n",
       "      <td>0</td>\n",
       "      <td>1</td>\n",
       "      <td>140</td>\n",
       "      <td>294</td>\n",
       "      <td>0</td>\n",
       "      <td>0</td>\n",
       "      <td>153</td>\n",
       "      <td>0</td>\n",
       "      <td>1.3</td>\n",
       "      <td>1</td>\n",
       "      <td>0</td>\n",
       "      <td>2</td>\n",
       "      <td>1</td>\n",
       "    </tr>\n",
       "    <tr>\n",
       "      <td>7</td>\n",
       "      <td>44</td>\n",
       "      <td>1</td>\n",
       "      <td>1</td>\n",
       "      <td>120</td>\n",
       "      <td>263</td>\n",
       "      <td>0</td>\n",
       "      <td>1</td>\n",
       "      <td>173</td>\n",
       "      <td>0</td>\n",
       "      <td>0.0</td>\n",
       "      <td>2</td>\n",
       "      <td>0</td>\n",
       "      <td>3</td>\n",
       "      <td>1</td>\n",
       "    </tr>\n",
       "    <tr>\n",
       "      <td>8</td>\n",
       "      <td>52</td>\n",
       "      <td>1</td>\n",
       "      <td>2</td>\n",
       "      <td>172</td>\n",
       "      <td>199</td>\n",
       "      <td>1</td>\n",
       "      <td>1</td>\n",
       "      <td>162</td>\n",
       "      <td>0</td>\n",
       "      <td>0.5</td>\n",
       "      <td>2</td>\n",
       "      <td>0</td>\n",
       "      <td>3</td>\n",
       "      <td>1</td>\n",
       "    </tr>\n",
       "    <tr>\n",
       "      <td>9</td>\n",
       "      <td>57</td>\n",
       "      <td>1</td>\n",
       "      <td>2</td>\n",
       "      <td>150</td>\n",
       "      <td>168</td>\n",
       "      <td>0</td>\n",
       "      <td>1</td>\n",
       "      <td>174</td>\n",
       "      <td>0</td>\n",
       "      <td>1.6</td>\n",
       "      <td>2</td>\n",
       "      <td>0</td>\n",
       "      <td>2</td>\n",
       "      <td>1</td>\n",
       "    </tr>\n",
       "  </tbody>\n",
       "</table>\n",
       "</div>"
      ],
      "text/plain": [
       "   age  sex  cp  trestbps  chol  fbs  restecg  thalach  exang  oldpeak  slope  \\\n",
       "0   63    1   3       145   233    1        0      150      0      2.3      0   \n",
       "1   37    1   2       130   250    0        1      187      0      3.5      0   \n",
       "2   41    0   1       130   204    0        0      172      0      1.4      2   \n",
       "3   56    1   1       120   236    0        1      178      0      0.8      2   \n",
       "4   57    0   0       120   354    0        1      163      1      0.6      2   \n",
       "5   57    1   0       140   192    0        1      148      0      0.4      1   \n",
       "6   56    0   1       140   294    0        0      153      0      1.3      1   \n",
       "7   44    1   1       120   263    0        1      173      0      0.0      2   \n",
       "8   52    1   2       172   199    1        1      162      0      0.5      2   \n",
       "9   57    1   2       150   168    0        1      174      0      1.6      2   \n",
       "\n",
       "   ca  thal  target  \n",
       "0   0     1       1  \n",
       "1   0     2       1  \n",
       "2   0     2       1  \n",
       "3   0     2       1  \n",
       "4   0     2       1  \n",
       "5   0     1       1  \n",
       "6   0     2       1  \n",
       "7   0     3       1  \n",
       "8   0     3       1  \n",
       "9   0     2       1  "
      ]
     },
     "execution_count": 60,
     "metadata": {},
     "output_type": "execute_result"
    }
   ],
   "source": [
    "data.head(10)"
   ]
  },
  {
   "cell_type": "code",
   "execution_count": 3,
   "metadata": {},
   "outputs": [
    {
     "data": {
      "text/html": [
       "<div>\n",
       "<style scoped>\n",
       "    .dataframe tbody tr th:only-of-type {\n",
       "        vertical-align: middle;\n",
       "    }\n",
       "\n",
       "    .dataframe tbody tr th {\n",
       "        vertical-align: top;\n",
       "    }\n",
       "\n",
       "    .dataframe thead th {\n",
       "        text-align: right;\n",
       "    }\n",
       "</style>\n",
       "<table border=\"1\" class=\"dataframe\">\n",
       "  <thead>\n",
       "    <tr style=\"text-align: right;\">\n",
       "      <th></th>\n",
       "      <th>age</th>\n",
       "      <th>sex</th>\n",
       "      <th>cp</th>\n",
       "      <th>trestbps</th>\n",
       "      <th>chol</th>\n",
       "      <th>fbs</th>\n",
       "      <th>restecg</th>\n",
       "      <th>thalach</th>\n",
       "      <th>exang</th>\n",
       "      <th>oldpeak</th>\n",
       "      <th>slope</th>\n",
       "      <th>ca</th>\n",
       "      <th>thal</th>\n",
       "      <th>target</th>\n",
       "    </tr>\n",
       "  </thead>\n",
       "  <tbody>\n",
       "    <tr>\n",
       "      <td>count</td>\n",
       "      <td>303.000000</td>\n",
       "      <td>303.000000</td>\n",
       "      <td>303.000000</td>\n",
       "      <td>303.000000</td>\n",
       "      <td>303.000000</td>\n",
       "      <td>303.000000</td>\n",
       "      <td>303.000000</td>\n",
       "      <td>303.000000</td>\n",
       "      <td>303.000000</td>\n",
       "      <td>303.000000</td>\n",
       "      <td>303.000000</td>\n",
       "      <td>303.000000</td>\n",
       "      <td>303.000000</td>\n",
       "      <td>303.000000</td>\n",
       "    </tr>\n",
       "    <tr>\n",
       "      <td>mean</td>\n",
       "      <td>54.366337</td>\n",
       "      <td>0.683168</td>\n",
       "      <td>0.966997</td>\n",
       "      <td>131.623762</td>\n",
       "      <td>246.264026</td>\n",
       "      <td>0.148515</td>\n",
       "      <td>0.528053</td>\n",
       "      <td>149.646865</td>\n",
       "      <td>0.326733</td>\n",
       "      <td>1.039604</td>\n",
       "      <td>1.399340</td>\n",
       "      <td>0.729373</td>\n",
       "      <td>2.313531</td>\n",
       "      <td>0.544554</td>\n",
       "    </tr>\n",
       "    <tr>\n",
       "      <td>std</td>\n",
       "      <td>9.082101</td>\n",
       "      <td>0.466011</td>\n",
       "      <td>1.032052</td>\n",
       "      <td>17.538143</td>\n",
       "      <td>51.830751</td>\n",
       "      <td>0.356198</td>\n",
       "      <td>0.525860</td>\n",
       "      <td>22.905161</td>\n",
       "      <td>0.469794</td>\n",
       "      <td>1.161075</td>\n",
       "      <td>0.616226</td>\n",
       "      <td>1.022606</td>\n",
       "      <td>0.612277</td>\n",
       "      <td>0.498835</td>\n",
       "    </tr>\n",
       "    <tr>\n",
       "      <td>min</td>\n",
       "      <td>29.000000</td>\n",
       "      <td>0.000000</td>\n",
       "      <td>0.000000</td>\n",
       "      <td>94.000000</td>\n",
       "      <td>126.000000</td>\n",
       "      <td>0.000000</td>\n",
       "      <td>0.000000</td>\n",
       "      <td>71.000000</td>\n",
       "      <td>0.000000</td>\n",
       "      <td>0.000000</td>\n",
       "      <td>0.000000</td>\n",
       "      <td>0.000000</td>\n",
       "      <td>0.000000</td>\n",
       "      <td>0.000000</td>\n",
       "    </tr>\n",
       "    <tr>\n",
       "      <td>25%</td>\n",
       "      <td>47.500000</td>\n",
       "      <td>0.000000</td>\n",
       "      <td>0.000000</td>\n",
       "      <td>120.000000</td>\n",
       "      <td>211.000000</td>\n",
       "      <td>0.000000</td>\n",
       "      <td>0.000000</td>\n",
       "      <td>133.500000</td>\n",
       "      <td>0.000000</td>\n",
       "      <td>0.000000</td>\n",
       "      <td>1.000000</td>\n",
       "      <td>0.000000</td>\n",
       "      <td>2.000000</td>\n",
       "      <td>0.000000</td>\n",
       "    </tr>\n",
       "    <tr>\n",
       "      <td>50%</td>\n",
       "      <td>55.000000</td>\n",
       "      <td>1.000000</td>\n",
       "      <td>1.000000</td>\n",
       "      <td>130.000000</td>\n",
       "      <td>240.000000</td>\n",
       "      <td>0.000000</td>\n",
       "      <td>1.000000</td>\n",
       "      <td>153.000000</td>\n",
       "      <td>0.000000</td>\n",
       "      <td>0.800000</td>\n",
       "      <td>1.000000</td>\n",
       "      <td>0.000000</td>\n",
       "      <td>2.000000</td>\n",
       "      <td>1.000000</td>\n",
       "    </tr>\n",
       "    <tr>\n",
       "      <td>75%</td>\n",
       "      <td>61.000000</td>\n",
       "      <td>1.000000</td>\n",
       "      <td>2.000000</td>\n",
       "      <td>140.000000</td>\n",
       "      <td>274.500000</td>\n",
       "      <td>0.000000</td>\n",
       "      <td>1.000000</td>\n",
       "      <td>166.000000</td>\n",
       "      <td>1.000000</td>\n",
       "      <td>1.600000</td>\n",
       "      <td>2.000000</td>\n",
       "      <td>1.000000</td>\n",
       "      <td>3.000000</td>\n",
       "      <td>1.000000</td>\n",
       "    </tr>\n",
       "    <tr>\n",
       "      <td>max</td>\n",
       "      <td>77.000000</td>\n",
       "      <td>1.000000</td>\n",
       "      <td>3.000000</td>\n",
       "      <td>200.000000</td>\n",
       "      <td>564.000000</td>\n",
       "      <td>1.000000</td>\n",
       "      <td>2.000000</td>\n",
       "      <td>202.000000</td>\n",
       "      <td>1.000000</td>\n",
       "      <td>6.200000</td>\n",
       "      <td>2.000000</td>\n",
       "      <td>4.000000</td>\n",
       "      <td>3.000000</td>\n",
       "      <td>1.000000</td>\n",
       "    </tr>\n",
       "  </tbody>\n",
       "</table>\n",
       "</div>"
      ],
      "text/plain": [
       "              age         sex          cp    trestbps        chol         fbs  \\\n",
       "count  303.000000  303.000000  303.000000  303.000000  303.000000  303.000000   \n",
       "mean    54.366337    0.683168    0.966997  131.623762  246.264026    0.148515   \n",
       "std      9.082101    0.466011    1.032052   17.538143   51.830751    0.356198   \n",
       "min     29.000000    0.000000    0.000000   94.000000  126.000000    0.000000   \n",
       "25%     47.500000    0.000000    0.000000  120.000000  211.000000    0.000000   \n",
       "50%     55.000000    1.000000    1.000000  130.000000  240.000000    0.000000   \n",
       "75%     61.000000    1.000000    2.000000  140.000000  274.500000    0.000000   \n",
       "max     77.000000    1.000000    3.000000  200.000000  564.000000    1.000000   \n",
       "\n",
       "          restecg     thalach       exang     oldpeak       slope          ca  \\\n",
       "count  303.000000  303.000000  303.000000  303.000000  303.000000  303.000000   \n",
       "mean     0.528053  149.646865    0.326733    1.039604    1.399340    0.729373   \n",
       "std      0.525860   22.905161    0.469794    1.161075    0.616226    1.022606   \n",
       "min      0.000000   71.000000    0.000000    0.000000    0.000000    0.000000   \n",
       "25%      0.000000  133.500000    0.000000    0.000000    1.000000    0.000000   \n",
       "50%      1.000000  153.000000    0.000000    0.800000    1.000000    0.000000   \n",
       "75%      1.000000  166.000000    1.000000    1.600000    2.000000    1.000000   \n",
       "max      2.000000  202.000000    1.000000    6.200000    2.000000    4.000000   \n",
       "\n",
       "             thal      target  \n",
       "count  303.000000  303.000000  \n",
       "mean     2.313531    0.544554  \n",
       "std      0.612277    0.498835  \n",
       "min      0.000000    0.000000  \n",
       "25%      2.000000    0.000000  \n",
       "50%      2.000000    1.000000  \n",
       "75%      3.000000    1.000000  \n",
       "max      3.000000    1.000000  "
      ]
     },
     "execution_count": 3,
     "metadata": {},
     "output_type": "execute_result"
    }
   ],
   "source": [
    "data.describe()"
   ]
  },
  {
   "cell_type": "code",
   "execution_count": 6,
   "metadata": {},
   "outputs": [
    {
     "data": {
      "text/plain": [
       "(303, 14)"
      ]
     },
     "execution_count": 6,
     "metadata": {},
     "output_type": "execute_result"
    }
   ],
   "source": [
    "data.shape"
   ]
  },
  {
   "cell_type": "code",
   "execution_count": 7,
   "metadata": {},
   "outputs": [
    {
     "data": {
      "text/html": [
       "<div>\n",
       "<style scoped>\n",
       "    .dataframe tbody tr th:only-of-type {\n",
       "        vertical-align: middle;\n",
       "    }\n",
       "\n",
       "    .dataframe tbody tr th {\n",
       "        vertical-align: top;\n",
       "    }\n",
       "\n",
       "    .dataframe thead th {\n",
       "        text-align: right;\n",
       "    }\n",
       "</style>\n",
       "<table border=\"1\" class=\"dataframe\">\n",
       "  <thead>\n",
       "    <tr style=\"text-align: right;\">\n",
       "      <th></th>\n",
       "      <th>age</th>\n",
       "      <th>sex</th>\n",
       "      <th>cp</th>\n",
       "      <th>trestbps</th>\n",
       "      <th>chol</th>\n",
       "      <th>fbs</th>\n",
       "      <th>restecg</th>\n",
       "      <th>thalach</th>\n",
       "      <th>exang</th>\n",
       "      <th>oldpeak</th>\n",
       "      <th>slope</th>\n",
       "      <th>ca</th>\n",
       "      <th>thal</th>\n",
       "    </tr>\n",
       "  </thead>\n",
       "  <tbody>\n",
       "    <tr>\n",
       "      <td>0</td>\n",
       "      <td>63</td>\n",
       "      <td>1</td>\n",
       "      <td>3</td>\n",
       "      <td>145</td>\n",
       "      <td>233</td>\n",
       "      <td>1</td>\n",
       "      <td>0</td>\n",
       "      <td>150</td>\n",
       "      <td>0</td>\n",
       "      <td>2.3</td>\n",
       "      <td>0</td>\n",
       "      <td>0</td>\n",
       "      <td>1</td>\n",
       "    </tr>\n",
       "    <tr>\n",
       "      <td>1</td>\n",
       "      <td>37</td>\n",
       "      <td>1</td>\n",
       "      <td>2</td>\n",
       "      <td>130</td>\n",
       "      <td>250</td>\n",
       "      <td>0</td>\n",
       "      <td>1</td>\n",
       "      <td>187</td>\n",
       "      <td>0</td>\n",
       "      <td>3.5</td>\n",
       "      <td>0</td>\n",
       "      <td>0</td>\n",
       "      <td>2</td>\n",
       "    </tr>\n",
       "  </tbody>\n",
       "</table>\n",
       "</div>"
      ],
      "text/plain": [
       "   age  sex  cp  trestbps  chol  fbs  restecg  thalach  exang  oldpeak  slope  \\\n",
       "0   63    1   3       145   233    1        0      150      0      2.3      0   \n",
       "1   37    1   2       130   250    0        1      187      0      3.5      0   \n",
       "\n",
       "   ca  thal  \n",
       "0   0     1  \n",
       "1   0     2  "
      ]
     },
     "execution_count": 7,
     "metadata": {},
     "output_type": "execute_result"
    }
   ],
   "source": [
    "y = data['target'].values\n",
    "X = data.drop(['target'], axis=1)\n",
    "X.head(2)"
   ]
  },
  {
   "cell_type": "markdown",
   "metadata": {},
   "source": [
    "## Checking Data Imbalanced or not."
   ]
  },
  {
   "cell_type": "code",
   "execution_count": 57,
   "metadata": {},
   "outputs": [
    {
     "data": {
      "text/plain": [
       "<matplotlib.axes._subplots.AxesSubplot at 0x26a786c0908>"
      ]
     },
     "execution_count": 57,
     "metadata": {},
     "output_type": "execute_result"
    },
    {
     "data": {
      "image/png": "[encoded data removed]",
      "text/plain": [
       "<Figure size 432x288 with 1 Axes>"
      ]
     },
     "metadata": {},
     "output_type": "display_data"
    }
   ],
   "source": [
    "sns.set_style('whitegrid')\n",
    "sns.countplot(x='target',data=data,palette='RdBu_r')"
   ]
  },
  {
   "cell_type": "markdown",
   "metadata": {},
   "source": [
    "#### Almost equal distribution of target variable.\n",
    "target(0) is nearly 140 and target(1) is sighlty above than 160.\n",
    "we can say that this is roughly 40:60 ratio distributon.\n",
    "So, this data is balanced."
   ]
  },
  {
   "cell_type": "code",
   "execution_count": 86,
   "metadata": {},
   "outputs": [
    {
     "data": {
      "image/png": "[encoded data removed]",
      "text/plain": [
       "<Figure size 407.145x360 with 1 Axes>"
      ]
     },
     "metadata": {},
     "output_type": "display_data"
    }
   ],
   "source": [
    "import matplotlib.pyplot as plt\n",
    "import seaborn as sns\n",
    "sns.set_context(\"paper\", font_scale = 0.5, rc = {\"font.size\": 40,\"axes.titlesize\": 30,\"axes.labelsize\": 20}) \n",
    "sns.catplot(kind = 'count', data = data, x = 'age', hue = 'target', order = data['age'].sort_values().unique())\n",
    "plt.title('Variation of Age for each target class')\n",
    "plt.show()"
   ]
  },
  {
   "cell_type": "markdown",
   "metadata": {},
   "source": [
    "We can see that most people who are suffering are age of 58, folloewd by 57.\n",
    "\n",
    "Majority people who are 50+ are suffering from heart disease."
   ]
  },
  {
   "cell_type": "markdown",
   "metadata": {},
   "source": [
    "## Splitting the Data"
   ]
  },
  {
   "cell_type": "code",
   "execution_count": 47,
   "metadata": {},
   "outputs": [],
   "source": [
    "from sklearn.model_selection import train_test_split\n",
    "X_train, X_test, y_train, y_test = train_test_split(X, y, test_size=0.33, stratify=y)\n",
    "X_train, X_cv, y_train, y_cv = train_test_split(X_train, y_train, test_size=0.33, stratify=y_train)"
   ]
  },
  {
   "cell_type": "markdown",
   "metadata": {},
   "source": [
    "## Making Data Model Ready"
   ]
  },
  {
   "cell_type": "markdown",
   "metadata": {},
   "source": [
    "### Encoding Age feature"
   ]
  },
  {
   "cell_type": "code",
   "execution_count": 13,
   "metadata": {},
   "outputs": [],
   "source": [
    "from sklearn.preprocessing import Normalizer\n",
    "normalizer = Normalizer()\n",
    "# normalizer.fit(X_train['price'].values)\n",
    "# this will rise an error Expected 2D array, got 1D array instead: \n",
    "# array=[105.22 215.96  96.01 ... 368.98  80.53 709.67].\n",
    "# Reshape your data either using \n",
    "# array.reshape(-1, 1) if your data has a single feature \n",
    "# array.reshape(1, -1)  if it contains a single sample.\n",
    "normalizer.fit(X_train['age'].values.reshape(1,-1))\n",
    "\n",
    "X_train_age_norm = normalizer.transform(X_train['age'].values.reshape(1,-1))\n",
    "X_cv_age_norm = normalizer.transform(X_cv['age'].values.reshape(1,-1))\n",
    "X_test_age_norm = normalizer.transform(X_test['age'].values.reshape(1,-1))\n",
    "\n",
    "\n",
    "X_train_age_norm=X_train_age_norm.reshape(-1,1)\n",
    "X_cv_age_norm=X_cv_age_norm.reshape(-1,1)\n",
    "X_test_age_norm=X_test_age_norm.reshape(-1,1)\n"
   ]
  },
  {
   "cell_type": "markdown",
   "metadata": {},
   "source": [
    "### Encoding Sex Feature"
   ]
  },
  {
   "cell_type": "code",
   "execution_count": 14,
   "metadata": {},
   "outputs": [],
   "source": [
    "from sklearn.preprocessing import Normalizer\n",
    "normalizer = Normalizer()\n",
    "# normalizer.fit(X_train['price'].values)\n",
    "# this will rise an error Expected 2D array, got 1D array instead: \n",
    "# array=[105.22 215.96  96.01 ... 368.98  80.53 709.67].\n",
    "# Reshape your data either using \n",
    "# array.reshape(-1, 1) if your data has a single feature \n",
    "# array.reshape(1, -1)  if it contains a single sample.\n",
    "normalizer.fit(X_train['sex'].values.reshape(1,-1))\n",
    "\n",
    "X_train_sex_norm = normalizer.transform(X_train['sex'].values.reshape(1,-1))\n",
    "X_cv_sex_norm = normalizer.transform(X_cv['sex'].values.reshape(1,-1))\n",
    "X_test_sex_norm = normalizer.transform(X_test['sex'].values.reshape(1,-1))\n",
    "\n",
    "\n",
    "\n",
    "X_train_sex_norm=X_train_sex_norm.reshape(-1,1)\n",
    "X_cv_sex_norm=X_cv_sex_norm.reshape(-1,1)\n",
    "X_test_sex_norm=X_test_sex_norm.reshape(-1,1)\n"
   ]
  },
  {
   "cell_type": "markdown",
   "metadata": {},
   "source": [
    "### Encoding cp Feature:"
   ]
  },
  {
   "cell_type": "code",
   "execution_count": 15,
   "metadata": {},
   "outputs": [],
   "source": [
    "from sklearn.preprocessing import Normalizer\n",
    "normalizer = Normalizer()\n",
    "# normalizer.fit(X_train['price'].values)\n",
    "# this will rise an error Expected 2D array, got 1D array instead: \n",
    "# array=[105.22 215.96  96.01 ... 368.98  80.53 709.67].\n",
    "# Reshape your data either using \n",
    "# array.reshape(-1, 1) if your data has a single feature \n",
    "# array.reshape(1, -1)  if it contains a single sample.\n",
    "normalizer.fit(X_train['cp'].values.reshape(1,-1))\n",
    "\n",
    "X_train_cp_norm = normalizer.transform(X_train['cp'].values.reshape(1,-1))\n",
    "X_cv_cp_norm = normalizer.transform(X_cv['cp'].values.reshape(1,-1))\n",
    "X_test_cp_norm = normalizer.transform(X_test['cp'].values.reshape(1,-1))\n",
    "\n",
    "\n",
    "X_train_cp_norm=X_train_cp_norm.reshape(-1,1)\n",
    "X_cv_cp_norm=X_cv_cp_norm.reshape(-1,1)\n",
    "X_test_cp_norm=X_test_cp_norm.reshape(-1,1)\n"
   ]
  },
  {
   "cell_type": "markdown",
   "metadata": {},
   "source": [
    "### Encoding trestbsp Feature:"
   ]
  },
  {
   "cell_type": "code",
   "execution_count": 23,
   "metadata": {},
   "outputs": [],
   "source": [
    "from sklearn.preprocessing import Normalizer\n",
    "normalizer = Normalizer()\n",
    "# normalizer.fit(X_train['price'].values)\n",
    "# this will rise an error Expected 2D array, got 1D array instead: \n",
    "# array=[105.22 215.96  96.01 ... 368.98  80.53 709.67].\n",
    "# Reshape your data either using \n",
    "# array.reshape(-1, 1) if your data has a single feature \n",
    "# array.reshape(1, -1)  if it contains a single sample.\n",
    "normalizer.fit(X_train['trestbps'].values.reshape(1,-1))\n",
    "\n",
    "X_train_trestbps_norm = normalizer.transform(X_train['trestbps'].values.reshape(1,-1))\n",
    "X_cv_trestbps_norm = normalizer.transform(X_cv['trestbps'].values.reshape(1,-1))\n",
    "X_test_trestbps_norm = normalizer.transform(X_test['trestbps'].values.reshape(1,-1))\n",
    "\n",
    "\n",
    "X_train_trestbps_norm=X_train_trestbps_norm.reshape(-1,1)\n",
    "X_cv_trestbps_norm=X_cv_trestbps_norm.reshape(-1,1)\n",
    "X_test_trestbps_norm=X_test_trestbps_norm.reshape(-1,1)\n"
   ]
  },
  {
   "cell_type": "markdown",
   "metadata": {},
   "source": [
    "### Encoding chol Feature:"
   ]
  },
  {
   "cell_type": "code",
   "execution_count": 24,
   "metadata": {},
   "outputs": [],
   "source": [
    "from sklearn.preprocessing import Normalizer\n",
    "normalizer = Normalizer()\n",
    "# normalizer.fit(X_train['price'].values)\n",
    "# this will rise an error Expected 2D array, got 1D array instead: \n",
    "# array=[105.22 215.96  96.01 ... 368.98  80.53 709.67].\n",
    "# Reshape your data either using \n",
    "# array.reshape(-1, 1) if your data has a single feature \n",
    "# array.reshape(1, -1)  if it contains a single sample.\n",
    "normalizer.fit(X_train['chol'].values.reshape(1,-1))\n",
    "\n",
    "X_train_chol_norm = normalizer.transform(X_train['chol'].values.reshape(1,-1))\n",
    "X_cv_chol_norm = normalizer.transform(X_cv['chol'].values.reshape(1,-1))\n",
    "X_test_chol_norm = normalizer.transform(X_test['chol'].values.reshape(1,-1))\n",
    "\n",
    "\n",
    "X_train_chol_norm=X_train_chol_norm.reshape(-1,1)\n",
    "X_cv_chol_norm=X_cv_chol_norm.reshape(-1,1)\n",
    "X_test_chol_norm=X_test_chol_norm.reshape(-1,1)\n"
   ]
  },
  {
   "cell_type": "markdown",
   "metadata": {},
   "source": [
    "### Encoding fbs Feature:"
   ]
  },
  {
   "cell_type": "code",
   "execution_count": 25,
   "metadata": {},
   "outputs": [],
   "source": [
    "from sklearn.preprocessing import Normalizer\n",
    "normalizer = Normalizer()\n",
    "# normalizer.fit(X_train['price'].values)\n",
    "# this will rise an error Expected 2D array, got 1D array instead: \n",
    "# array=[105.22 215.96  96.01 ... 368.98  80.53 709.67].\n",
    "# Reshape your data either using \n",
    "# array.reshape(-1, 1) if your data has a single feature \n",
    "# array.reshape(1, -1)  if it contains a single sample.\n",
    "normalizer.fit(X_train['fbs'].values.reshape(1,-1))\n",
    "\n",
    "X_train_fbs_norm = normalizer.transform(X_train['fbs'].values.reshape(1,-1))\n",
    "X_cv_fbs_norm = normalizer.transform(X_cv['fbs'].values.reshape(1,-1))\n",
    "X_test_fbs_norm = normalizer.transform(X_test['fbs'].values.reshape(1,-1))\n",
    "\n",
    "\n",
    "X_train_fbs_norm=X_train_fbs_norm.reshape(-1,1)\n",
    "X_cv_fbs_norm=X_cv_fbs_norm.reshape(-1,1)\n",
    "X_test_fbs_norm=X_test_fbs_norm.reshape(-1,1)\n"
   ]
  },
  {
   "cell_type": "markdown",
   "metadata": {},
   "source": [
    "### Encoding restecg Feature:"
   ]
  },
  {
   "cell_type": "code",
   "execution_count": 26,
   "metadata": {},
   "outputs": [],
   "source": [
    "from sklearn.preprocessing import Normalizer\n",
    "normalizer = Normalizer()\n",
    "# normalizer.fit(X_train['price'].values)\n",
    "# this will rise an error Expected 2D array, got 1D array instead: \n",
    "# array=[105.22 215.96  96.01 ... 368.98  80.53 709.67].\n",
    "# Reshape your data either using \n",
    "# array.reshape(-1, 1) if your data has a single feature \n",
    "# array.reshape(1, -1)  if it contains a single sample.\n",
    "normalizer.fit(X_train['restecg'].values.reshape(1,-1))\n",
    "\n",
    "X_train_restecg_norm = normalizer.transform(X_train['restecg'].values.reshape(1,-1))\n",
    "X_cv_restecg_norm = normalizer.transform(X_cv['restecg'].values.reshape(1,-1))\n",
    "X_test_restecg_norm = normalizer.transform(X_test['restecg'].values.reshape(1,-1))\n",
    "\n",
    "\n",
    "X_train_restecg_norm=X_train_restecg_norm.reshape(-1,1)\n",
    "X_cv_restecg_norm=X_cv_restecg_norm.reshape(-1,1)\n",
    "X_test_restecg_norm=X_test_restecg_norm.reshape(-1,1)\n"
   ]
  },
  {
   "cell_type": "markdown",
   "metadata": {},
   "source": [
    "### Encoding thalach Feature:"
   ]
  },
  {
   "cell_type": "code",
   "execution_count": 27,
   "metadata": {},
   "outputs": [],
   "source": [
    "from sklearn.preprocessing import Normalizer\n",
    "normalizer = Normalizer()\n",
    "# normalizer.fit(X_train['price'].values)\n",
    "# this will rise an error Expected 2D array, got 1D array instead: \n",
    "# array=[105.22 215.96  96.01 ... 368.98  80.53 709.67].\n",
    "# Reshape your data either using \n",
    "# array.reshape(-1, 1) if your data has a single feature \n",
    "# array.reshape(1, -1)  if it contains a single sample.\n",
    "normalizer.fit(X_train['thalach'].values.reshape(1,-1))\n",
    "\n",
    "X_train_thalach_norm = normalizer.transform(X_train['thalach'].values.reshape(1,-1))\n",
    "X_cv_thalach_norm = normalizer.transform(X_cv['thalach'].values.reshape(1,-1))\n",
    "X_test_thalach_norm = normalizer.transform(X_test['thalach'].values.reshape(1,-1))\n",
    "\n",
    "\n",
    "X_train_thalach_norm=X_train_thalach_norm.reshape(-1,1)\n",
    "X_cv_thalach_norm=X_cv_thalach_norm.reshape(-1,1)\n",
    "X_test_thalach_norm=X_test_thalach_norm.reshape(-1,1)\n"
   ]
  },
  {
   "cell_type": "markdown",
   "metadata": {},
   "source": [
    "### Encoding Exang Feature:"
   ]
  },
  {
   "cell_type": "code",
   "execution_count": 28,
   "metadata": {},
   "outputs": [],
   "source": [
    "from sklearn.preprocessing import Normalizer\n",
    "normalizer = Normalizer()\n",
    "# normalizer.fit(X_train['price'].values)\n",
    "# this will rise an error Expected 2D array, got 1D array instead: \n",
    "# array=[105.22 215.96  96.01 ... 368.98  80.53 709.67].\n",
    "# Reshape your data either using \n",
    "# array.reshape(-1, 1) if your data has a single feature \n",
    "# array.reshape(1, -1)  if it contains a single sample.\n",
    "normalizer.fit(X_train['exang'].values.reshape(1,-1))\n",
    "\n",
    "X_train_exang_norm = normalizer.transform(X_train['exang'].values.reshape(1,-1))\n",
    "X_cv_exang_norm = normalizer.transform(X_cv['exang'].values.reshape(1,-1))\n",
    "X_test_exang_norm = normalizer.transform(X_test['exang'].values.reshape(1,-1))\n",
    "\n",
    "\n",
    "X_train_exang_norm=X_train_exang_norm.reshape(-1,1)\n",
    "X_cv_exang_norm=X_cv_exang_norm.reshape(-1,1)\n",
    "X_test_exang_norm=X_test_exang_norm.reshape(-1,1)\n"
   ]
  },
  {
   "cell_type": "markdown",
   "metadata": {},
   "source": [
    "### Encoding oldpeak Feature:"
   ]
  },
  {
   "cell_type": "code",
   "execution_count": 29,
   "metadata": {},
   "outputs": [],
   "source": [
    "from sklearn.preprocessing import Normalizer\n",
    "normalizer = Normalizer()\n",
    "# normalizer.fit(X_train['price'].values)\n",
    "# this will rise an error Expected 2D array, got 1D array instead: \n",
    "# array=[105.22 215.96  96.01 ... 368.98  80.53 709.67].\n",
    "# Reshape your data either using \n",
    "# array.reshape(-1, 1) if your data has a single feature \n",
    "# array.reshape(1, -1)  if it contains a single sample.\n",
    "normalizer.fit(X_train['oldpeak'].values.reshape(1,-1))\n",
    "\n",
    "X_train_oldpeak_norm = normalizer.transform(X_train['oldpeak'].values.reshape(1,-1))\n",
    "X_cv_oldpeak_norm = normalizer.transform(X_cv['oldpeak'].values.reshape(1,-1))\n",
    "X_test_oldpeak_norm = normalizer.transform(X_test['oldpeak'].values.reshape(1,-1))\n",
    "\n",
    "\n",
    "X_train_oldpeak_norm=X_train_oldpeak_norm.reshape(-1,1)\n",
    "X_cv_oldpeak_norm=X_cv_oldpeak_norm.reshape(-1,1)\n",
    "X_test_oldpeak_norm=X_test_oldpeak_norm.reshape(-1,1)\n"
   ]
  },
  {
   "cell_type": "markdown",
   "metadata": {},
   "source": [
    "### Encoding Slope Feature:"
   ]
  },
  {
   "cell_type": "code",
   "execution_count": 30,
   "metadata": {},
   "outputs": [],
   "source": [
    "from sklearn.preprocessing import Normalizer\n",
    "normalizer = Normalizer()\n",
    "# normalizer.fit(X_train['price'].values)\n",
    "# this will rise an error Expected 2D array, got 1D array instead: \n",
    "# array=[105.22 215.96  96.01 ... 368.98  80.53 709.67].\n",
    "# Reshape your data either using \n",
    "# array.reshape(-1, 1) if your data has a single feature \n",
    "# array.reshape(1, -1)  if it contains a single sample.\n",
    "normalizer.fit(X_train['slope'].values.reshape(1,-1))\n",
    "\n",
    "X_train_slope_norm = normalizer.transform(X_train['slope'].values.reshape(1,-1))\n",
    "X_cv_slope_norm = normalizer.transform(X_cv['slope'].values.reshape(1,-1))\n",
    "X_test_slope_norm = normalizer.transform(X_test['slope'].values.reshape(1,-1))\n",
    "\n",
    "\n",
    "X_train_slope_norm=X_train_slope_norm.reshape(-1,1)\n",
    "X_cv_slope_norm=X_cv_slope_norm.reshape(-1,1)\n",
    "X_test_slope_norm=X_test_slope_norm.reshape(-1,1)\n"
   ]
  },
  {
   "cell_type": "markdown",
   "metadata": {},
   "source": [
    "### Encoding Ca Feature:"
   ]
  },
  {
   "cell_type": "code",
   "execution_count": 31,
   "metadata": {},
   "outputs": [],
   "source": [
    "from sklearn.preprocessing import Normalizer\n",
    "normalizer = Normalizer()\n",
    "# normalizer.fit(X_train['price'].values)\n",
    "# this will rise an error Expected 2D array, got 1D array instead: \n",
    "# array=[105.22 215.96  96.01 ... 368.98  80.53 709.67].\n",
    "# Reshape your data either using \n",
    "# array.reshape(-1, 1) if your data has a single feature \n",
    "# array.reshape(1, -1)  if it contains a single sample.\n",
    "normalizer.fit(X_train['ca'].values.reshape(1,-1))\n",
    "\n",
    "X_train_ca_norm = normalizer.transform(X_train['ca'].values.reshape(1,-1))\n",
    "X_cv_ca_norm = normalizer.transform(X_cv['ca'].values.reshape(1,-1))\n",
    "X_test_ca_norm = normalizer.transform(X_test['ca'].values.reshape(1,-1))\n",
    "\n",
    "\n",
    "X_train_ca_norm=X_train_ca_norm.reshape(-1,1)\n",
    "X_cv_ca_norm=X_cv_ca_norm.reshape(-1,1)\n",
    "X_test_ca_norm=X_test_ca_norm.reshape(-1,1)\n"
   ]
  },
  {
   "cell_type": "markdown",
   "metadata": {},
   "source": [
    "### Encoding Thal Feature:"
   ]
  },
  {
   "cell_type": "code",
   "execution_count": 32,
   "metadata": {},
   "outputs": [],
   "source": [
    "from sklearn.preprocessing import Normalizer\n",
    "normalizer = Normalizer()\n",
    "# normalizer.fit(X_train['price'].values)\n",
    "# this will rise an error Expected 2D array, got 1D array instead: \n",
    "# array=[105.22 215.96  96.01 ... 368.98  80.53 709.67].\n",
    "# Reshape your data either using \n",
    "# array.reshape(-1, 1) if your data has a single feature \n",
    "# array.reshape(1, -1)  if it contains a single sample.\n",
    "normalizer.fit(X_train['thal'].values.reshape(1,-1))\n",
    "\n",
    "X_train_thal_norm = normalizer.transform(X_train['thal'].values.reshape(1,-1))\n",
    "X_cv_thal_norm = normalizer.transform(X_cv['thal'].values.reshape(1,-1))\n",
    "X_test_thal_norm = normalizer.transform(X_test['thal'].values.reshape(1,-1))\n",
    "\n",
    "\n",
    "X_train_thal_norm=X_train_thal_norm.reshape(-1,1)\n",
    "X_cv_thal_norm=X_cv_thal_norm.reshape(-1,1)\n",
    "X_test_thal_norm=X_test_thal_norm.reshape(-1,1)\n"
   ]
  },
  {
   "cell_type": "markdown",
   "metadata": {},
   "source": [
    "### Concaitinating all the features:"
   ]
  },
  {
   "cell_type": "code",
   "execution_count": 36,
   "metadata": {},
   "outputs": [
    {
     "name": "stdout",
     "output_type": "stream",
     "text": [
      "Final Data matrix\n",
      "(136, 13) (136,)\n",
      "(67, 13) (67,)\n",
      "(100, 13) (100,)\n",
      "====================================================================================================\n"
     ]
    }
   ],
   "source": [
    "# merge two sparse matrices: https://stackoverflow.com/a/19710648/4084039\n",
    "from scipy.sparse import hstack\n",
    "X_tr = np.hstack((X_train_age_norm,X_train_sex_norm,X_train_cp_norm,X_train_trestbps_norm,X_train_chol_norm,X_train_fbs_norm,X_train_restecg_norm,X_train_thalach_norm,X_train_exang_norm,X_train_oldpeak_norm,X_train_slope_norm,X_train_ca_norm,X_train_thal_norm))\n",
    "X_cr = np.hstack((X_cv_thal_norm,X_cv_ca_norm,X_cv_slope_norm,X_cv_oldpeak_norm,X_cv_exang_norm,X_cv_thalach_norm,X_cv_restecg_norm,X_cv_fbs_norm,X_cv_chol_norm,X_cv_trestbps_norm,X_cv_cp_norm,X_cv_sex_norm,X_cv_age_norm))\n",
    "X_te = np.hstack((X_test_thal_norm,X_test_ca_norm,X_test_slope_norm,X_test_oldpeak_norm,X_test_exang_norm,X_test_thalach_norm,X_test_restecg_norm,X_test_fbs_norm,X_test_chol_norm,X_test_trestbps_norm,X_test_cp_norm,X_test_sex_norm,X_test_age_norm))\n",
    "\n",
    "\n",
    "print(\"Final Data matrix\")\n",
    "print(X_tr.shape, y_train.shape)\n",
    "print(X_cr.shape, y_cv.shape)\n",
    "print(X_te.shape, y_test.shape)\n",
    "print(\"=\"*100)"
   ]
  },
  {
   "cell_type": "code",
   "execution_count": 59,
   "metadata": {},
   "outputs": [
    {
     "data": {
      "text/plain": [
       "array([[0.08368121, 0.10369517, 0.        , ..., 0.05643326, 0.06388766,\n",
       "        0.10896491],\n",
       "       [0.08058191, 0.10369517, 0.        , ..., 0.11286653, 0.12777531,\n",
       "        0.10896491],\n",
       "       [0.09607843, 0.        , 0.        , ..., 0.        , 0.12777531,\n",
       "        0.07264327],\n",
       "       ...,\n",
       "       [0.06818469, 0.10369517, 0.06375767, ..., 0.11286653, 0.        ,\n",
       "        0.07264327],\n",
       "       [0.09762808, 0.10369517, 0.        , ..., 0.05643326, 0.06388766,\n",
       "        0.10896491],\n",
       "       [0.08368121, 0.10369517, 0.        , ..., 0.05643326, 0.06388766,\n",
       "        0.10896491]])"
      ]
     },
     "execution_count": 59,
     "metadata": {},
     "output_type": "execute_result"
    }
   ],
   "source": [
    "X_tr"
   ]
  },
  {
   "cell_type": "markdown",
   "metadata": {},
   "source": [
    "### Decision Trees:"
   ]
  },
  {
   "cell_type": "code",
   "execution_count": 37,
   "metadata": {},
   "outputs": [],
   "source": [
    "# https://scikit-learn.org/stable/modules/generated/sklearn.tree.DecisionTreeClassifier.html\n",
    "\n",
    "from sklearn.metrics import roc_auc_score\n",
    "import matplotlib.pyplot as plt\n",
    "from sklearn.model_selection import RandomizedSearchCV\n",
    "from sklearn.model_selection import cross_val_score\n",
    "from sklearn.tree import DecisionTreeClassifier\n",
    "decision_tree = DecisionTreeClassifier(max_depth = 3)\n",
    "\n",
    "clf = decision_tree.fit(X_tr ,y_train)\n"
   ]
  },
  {
   "cell_type": "code",
   "execution_count": 38,
   "metadata": {},
   "outputs": [
    {
     "name": "stdout",
     "output_type": "stream",
     "text": [
      "Fitting 3 folds for each of 10 candidates, totalling 30 fits\n",
      "[CV] min_samples_split=100, max_depth=1 ..............................\n"
     ]
    },
    {
     "name": "stderr",
     "output_type": "stream",
     "text": [
      "[Parallel(n_jobs=1)]: Using backend SequentialBackend with 1 concurrent workers.\n"
     ]
    },
    {
     "name": "stdout",
     "output_type": "stream",
     "text": [
      "[CV]  min_samples_split=100, max_depth=1, score=(train=0.500, test=0.500), total=   0.2s\n",
      "[CV] min_samples_split=100, max_depth=1 ..............................\n",
      "[CV]  min_samples_split=100, max_depth=1, score=(train=0.500, test=0.500), total=   0.0s\n",
      "[CV] min_samples_split=100, max_depth=1 ..............................\n",
      "[CV]  min_samples_split=100, max_depth=1, score=(train=0.500, test=0.500), total=   0.0s\n",
      "[CV] min_samples_split=10, max_depth=50 ..............................\n",
      "[CV]  min_samples_split=10, max_depth=50, score=(train=0.988, test=0.627), total=   0.0s\n",
      "[CV] min_samples_split=10, max_depth=50 ..............................\n",
      "[CV]  min_samples_split=10, max_depth=50, score=(train=0.972, test=0.862), total=   0.0s\n",
      "[CV] min_samples_split=10, max_depth=50 ..............................\n",
      "[CV]  min_samples_split=10, max_depth=50, score=(train=0.979, test=0.801), total=   0.0s\n",
      "[CV] min_samples_split=5, max_depth=100 ..............................\n",
      "[CV]  min_samples_split=5, max_depth=100, score=(train=0.999, test=0.631), total=   0.0s\n",
      "[CV] min_samples_split=5, max_depth=100 ..............................\n",
      "[CV]  min_samples_split=5, max_depth=100, score=(train=0.999, test=0.857), total=   0.0s\n",
      "[CV] min_samples_split=5, max_depth=100 ..............................\n",
      "[CV]  min_samples_split=5, max_depth=100, score=(train=0.999, test=0.756), total=   0.0s\n",
      "[CV] min_samples_split=500, max_depth=10 .............................\n",
      "[CV]  min_samples_split=500, max_depth=10, score=(train=0.500, test=0.500), total=   0.0s\n",
      "[CV] min_samples_split=500, max_depth=10 .............................\n",
      "[CV]  min_samples_split=500, max_depth=10, score=(train=0.500, test=0.500), total=   0.0s\n",
      "[CV] min_samples_split=500, max_depth=10 .............................\n",
      "[CV]  min_samples_split=500, max_depth=10, score=(train=0.500, test=0.500), total=   0.0s\n",
      "[CV] min_samples_split=10, max_depth=5 ...............................\n",
      "[CV]  min_samples_split=10, max_depth=5, score=(train=0.983, test=0.659), total=   0.0s\n",
      "[CV] min_samples_split=10, max_depth=5 ...............................\n",
      "[CV]  min_samples_split=10, max_depth=5, score=(train=0.957, test=0.851), total=   0.0s\n",
      "[CV] min_samples_split=10, max_depth=5 ...............................\n",
      "[CV]  min_samples_split=10, max_depth=5, score=(train=0.978, test=0.788), total=   0.0s\n",
      "[CV] min_samples_split=500, max_depth=1 ..............................\n",
      "[CV]  min_samples_split=500, max_depth=1, score=(train=0.500, test=0.500), total=   0.0s\n",
      "[CV] min_samples_split=500, max_depth=1 ..............................\n",
      "[CV]  min_samples_split=500, max_depth=1, score=(train=0.500, test=0.500), total=   0.0s\n",
      "[CV] min_samples_split=500, max_depth=1 ..............................\n",
      "[CV]  min_samples_split=500, max_depth=1, score=(train=0.500, test=0.500), total=   0.0s\n",
      "[CV] min_samples_split=10, max_depth=10 ..............................\n",
      "[CV]  min_samples_split=10, max_depth=10, score=(train=0.988, test=0.627), total=   0.0s\n",
      "[CV] min_samples_split=10, max_depth=10 ..............................\n",
      "[CV]  min_samples_split=10, max_depth=10, score=(train=0.972, test=0.855), total=   0.0s\n",
      "[CV] min_samples_split=10, max_depth=10 ..............................\n",
      "[CV]  min_samples_split=10, max_depth=10, score=(train=0.985, test=0.806), total=   0.0s\n",
      "[CV] min_samples_split=5, max_depth=500 ..............................\n",
      "[CV]  min_samples_split=5, max_depth=500, score=(train=0.999, test=0.635), total=   0.0s\n",
      "[CV] min_samples_split=5, max_depth=500 ..............................\n",
      "[CV]  min_samples_split=5, max_depth=500, score=(train=0.999, test=0.835), total=   0.0s\n",
      "[CV] min_samples_split=5, max_depth=500 ..............................\n",
      "[CV]  min_samples_split=5, max_depth=500, score=(train=1.000, test=0.745), total=   0.0s\n",
      "[CV] min_samples_split=5, max_depth=10 ...............................\n",
      "[CV]  min_samples_split=5, max_depth=10, score=(train=0.999, test=0.625), total=   0.0s\n",
      "[CV] min_samples_split=5, max_depth=10 ...............................\n",
      "[CV]  min_samples_split=5, max_depth=10, score=(train=0.999, test=0.830), total=   0.0s\n",
      "[CV] min_samples_split=5, max_depth=10 ...............................\n",
      "[CV]  min_samples_split=5, max_depth=10, score=(train=1.000, test=0.792), total=   0.0s\n",
      "[CV] min_samples_split=100, max_depth=50 .............................\n",
      "[CV]  min_samples_split=100, max_depth=50, score=(train=0.500, test=0.500), total=   0.0s\n",
      "[CV] min_samples_split=100, max_depth=50 .............................\n",
      "[CV]  min_samples_split=100, max_depth=50, score=(train=0.500, test=0.500), total=   0.0s\n",
      "[CV] min_samples_split=100, max_depth=50 .............................\n",
      "[CV]  min_samples_split=100, max_depth=50, score=(train=0.500, test=0.500), total=   0.0s\n"
     ]
    },
    {
     "name": "stderr",
     "output_type": "stream",
     "text": [
      "[Parallel(n_jobs=1)]: Done   1 out of   1 | elapsed:    0.2s remaining:    0.0s\n",
      "[Parallel(n_jobs=1)]: Done   2 out of   2 | elapsed:    0.2s remaining:    0.0s\n",
      "[Parallel(n_jobs=1)]: Done   3 out of   3 | elapsed:    0.2s remaining:    0.0s\n",
      "[Parallel(n_jobs=1)]: Done   4 out of   4 | elapsed:    0.2s remaining:    0.0s\n",
      "[Parallel(n_jobs=1)]: Done   5 out of   5 | elapsed:    0.2s remaining:    0.0s\n",
      "[Parallel(n_jobs=1)]: Done   6 out of   6 | elapsed:    0.2s remaining:    0.0s\n",
      "[Parallel(n_jobs=1)]: Done   7 out of   7 | elapsed:    0.2s remaining:    0.0s\n",
      "[Parallel(n_jobs=1)]: Done   8 out of   8 | elapsed:    0.2s remaining:    0.0s\n",
      "[Parallel(n_jobs=1)]: Done   9 out of   9 | elapsed:    0.2s remaining:    0.0s\n",
      "[Parallel(n_jobs=1)]: Done  30 out of  30 | elapsed:    0.2s finished\n"
     ]
    },
    {
     "data": {
      "text/plain": [
       "RandomizedSearchCV(cv=3, estimator=DecisionTreeClassifier(),\n",
       "                   param_distributions={'max_depth': [1, 5, 10, 50, 100, 500],\n",
       "                                        'min_samples_split': [5, 10, 100, 500]},\n",
       "                   return_train_score=True, scoring='roc_auc', verbose=10)"
      ]
     },
     "execution_count": 38,
     "metadata": {},
     "output_type": "execute_result"
    }
   ],
   "source": [
    "import seaborn as sea\n",
    "DT = DecisionTreeClassifier()\n",
    "\n",
    "\n",
    "parameters = {'max_depth': [1, 5, 10, 50, 100, 500], 'min_samples_split': [5, 10, 100, 500]}\n",
    "\n",
    "classifier = RandomizedSearchCV(DT, parameters, cv=3, scoring='roc_auc',return_train_score=True,verbose=10)\n",
    "classifier.fit(X_tr, y_train)"
   ]
  },
  {
   "cell_type": "code",
   "execution_count": 39,
   "metadata": {},
   "outputs": [
    {
     "name": "stdout",
     "output_type": "stream",
     "text": [
      "Best score:  0.766079365079365\n",
      "k value with best score:  {'min_samples_split': 10, 'max_depth': 5}\n",
      "===========================================================================\n",
      "Train AUC scores\n",
      "[0.5        0.97978691 0.99877409 0.5        0.97251954 0.5\n",
      " 0.98181153 0.99917901 0.99917901 0.5       ]\n",
      "CV AUC scores\n",
      "[0.5        0.76325661 0.74819048 0.5        0.76607937 0.5\n",
      " 0.76260847 0.73851852 0.74903968 0.5       ]\n"
     ]
    }
   ],
   "source": [
    "#Output of RandomCV\n",
    "\n",
    "print('Best score: ',classifier.best_score_)\n",
    "print('k value with best score: ',classifier.best_params_)\n",
    "print('='*75)\n",
    "print('Train AUC scores')\n",
    "print(classifier.cv_results_['mean_train_score'])\n",
    "print('CV AUC scores')\n",
    "print(classifier.cv_results_['mean_test_score'])"
   ]
  },
  {
   "cell_type": "markdown",
   "metadata": {},
   "source": [
    "### Random Forest"
   ]
  },
  {
   "cell_type": "code",
   "execution_count": 50,
   "metadata": {},
   "outputs": [],
   "source": [
    "# https://medium.com/@erikgreenj/k-neighbors-classifier-with-gridsearchcv-basics-3c445ddeb657\n",
    "\n",
    "from sklearn.model_selection import GridSearchCV\n",
    "from sklearn.ensemble import RandomForestClassifier\n",
    "\n",
    "rf = RandomForestClassifier()\n",
    "\n",
    "grid_params = {'n_estimators': [10, 50, 100, 150, 200, 300, 500, 1000], 'max_depth':[2, 3, 4, 5, 6, 7, 8, 9, 10]}\n",
    " \n",
    "gs = GridSearchCV(rf, grid_params, cv=3, scoring='roc_auc',n_jobs=-1)\n",
    "gs_results = gs.fit(X_train, y_train)"
   ]
  },
  {
   "cell_type": "code",
   "execution_count": 51,
   "metadata": {},
   "outputs": [
    {
     "name": "stdout",
     "output_type": "stream",
     "text": [
      "Best score:  0.8955978835978836\n",
      "===========================================================================\n",
      "k value with best score:  {'max_depth': 9, 'n_estimators': 150}\n"
     ]
    }
   ],
   "source": [
    "#Output of GridSearchCV\n",
    "print('Best score: ',gs_results.best_score_)\n",
    "print('='*75)\n",
    "print('k value with best score: ',gs_results.best_params_)"
   ]
  },
  {
   "cell_type": "markdown",
   "metadata": {},
   "source": [
    "### XG BOOST:"
   ]
  },
  {
   "cell_type": "code",
   "execution_count": 52,
   "metadata": {},
   "outputs": [
    {
     "data": {
      "text/plain": [
       "RandomizedSearchCV(cv=3,\n",
       "                   estimator=XGBClassifier(base_score=None, booster=None,\n",
       "                                           colsample_bylevel=None,\n",
       "                                           colsample_bynode=None,\n",
       "                                           colsample_bytree=None, gamma=None,\n",
       "                                           gpu_id=None, importance_type='gain',\n",
       "                                           interaction_constraints=None,\n",
       "                                           learning_rate=None,\n",
       "                                           max_delta_step=None, max_depth=None,\n",
       "                                           min_child_weight=None, missing=nan,\n",
       "                                           monotone_constraints=None,\n",
       "                                           n_estimators=100, n_jobs=None,\n",
       "                                           num_parallel_tree=None,\n",
       "                                           random_state=None, reg_alpha=None,\n",
       "                                           reg_lambda=None,\n",
       "                                           scale_pos_weight=None,\n",
       "                                           subsample=None, tree_method=None,\n",
       "                                           validate_parameters=None,\n",
       "                                           verbosity=None),\n",
       "                   n_jobs=-1,\n",
       "                   param_distributions={'max_depth': [2, 3, 4, 5, 6, 7, 8, 9,\n",
       "                                                      10],\n",
       "                                        'n_estimators': [10, 50, 100, 150, 200,\n",
       "                                                         300, 500, 1000]},\n",
       "                   scoring='roc_auc')"
      ]
     },
     "execution_count": 52,
     "metadata": {},
     "output_type": "execute_result"
    }
   ],
   "source": [
    "from scipy.stats import randint as sp_randint\n",
    "from sklearn.model_selection import RandomizedSearchCV\n",
    "from xgboost import XGBClassifier\n",
    "\n",
    "gbdt = XGBClassifier()\n",
    "\n",
    "grid_params = {'n_estimators': [10, 50, 100, 150, 200, 300, 500, 1000], 'max_depth':[2, 3, 4, 5, 6, 7, 8, 9, 10]}\n",
    " \n",
    "rs = RandomizedSearchCV(gbdt,grid_params ,cv=3, scoring='roc_auc',n_jobs=-1)\n",
    "rs.fit(X_train, y_train)\n"
   ]
  },
  {
   "cell_type": "code",
   "execution_count": 54,
   "metadata": {},
   "outputs": [
    {
     "name": "stdout",
     "output_type": "stream",
     "text": [
      "Best score:  0.8607777777777779\n",
      "===========================================================================\n",
      "k value with best score:  {'n_estimators': 500, 'max_depth': 3}\n"
     ]
    }
   ],
   "source": [
    "print('Best score: ',rs.best_score_)\n",
    "print('='*75)\n",
    "print('k value with best score: ',rs.best_params_)"
   ]
  },
  {
   "cell_type": "markdown",
   "metadata": {},
   "source": [
    "### Observation:"
   ]
  },
  {
   "cell_type": "code",
   "execution_count": 55,
   "metadata": {},
   "outputs": [
    {
     "name": "stdout",
     "output_type": "stream",
     "text": [
      "+---------------+------------+\n",
      "|     Model     | Best score |\n",
      "+---------------+------------+\n",
      "|    XG bOOST   |    0.86    |\n",
      "| Random Forest |    0.89    |\n",
      "| Decision tree |   0.766    |\n",
      "+---------------+------------+\n"
     ]
    }
   ],
   "source": [
    "# http://zetcode.com/python/prettytable/\n",
    "\n",
    "from prettytable import PrettyTable\n",
    "\n",
    "\n",
    "x = PrettyTable()\n",
    "x.field_names = [\"Model\", \"Best score\"]\n",
    "\n",
    "x.add_row([\"XG bOOST\", 0.860 ])\n",
    "x.add_row([\"Random Forest\",0.89 ])\n",
    "x.add_row([\"Decision tree\",0.766])\n",
    "\n",
    "\n",
    "print(x)"
   ]
  },
  {
   "cell_type": "markdown",
   "metadata": {},
   "source": [
    "So, we are getting the highest accuracy of 89% in the Random forest.\n",
    "It is very difficult to manually determine the odds of getting the heart disease based on risk factor.However,machine learning techniques are useful to predict the output from the existing data."
   ]
  },
  {
   "cell_type": "code",
   "execution_count": null,
   "metadata": {},
   "outputs": [],
   "source": []
  }
 ],
 "metadata": {
  "kernelspec": {
   "display_name": "Python 3",
   "language": "python",
   "name": "python3"
  },
  "language_info": {
   "codemirror_mode": {
    "name": "ipython",
    "version": 3
   },
   "file_extension": ".py",
   "mimetype": "text/x-python",
   "name": "python",
   "nbconvert_exporter": "python",
   "pygments_lexer": "ipython3",
   "version": "3.7.4"
  }
 },
 "nbformat": 4,
 "nbformat_minor": 2
}
